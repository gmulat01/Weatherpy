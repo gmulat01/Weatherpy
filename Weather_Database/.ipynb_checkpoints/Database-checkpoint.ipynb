{
 "cells": [
  {
   "cell_type": "code",
   "execution_count": 8,
   "id": "68ed3f50",
   "metadata": {},
   "outputs": [],
   "source": [
    "# Import the dependencies.\n",
    "import pandas as pd\n",
    "import matplotlib.pyplot as plt\n",
    "import numpy as np\n",
    "import time\n",
    "from datetime import datetime\n",
    "from citipy import citipy\n"
   ]
  },
  {
   "cell_type": "code",
   "execution_count": 9,
   "id": "1569608c",
   "metadata": {},
   "outputs": [
    {
     "name": "stdout",
     "output_type": "stream",
     "text": [
      "<zip object at 0x7fa4b52dc9c0>\n"
     ]
    }
   ],
   "source": [
    "# Create a set of random latitude and longitude combinations.\n",
    "lats = np.random.uniform(low=-90.000, high=90.000, size=2000)\n",
    "lngs = np.random.uniform(low=-180.000, high=180.000, size=2000)\n",
    "lat_lngs = zip(lats, lngs)\n",
    "print(lat_lngs)"
   ]
  },
  {
   "cell_type": "code",
   "execution_count": 10,
   "id": "0980ba47",
   "metadata": {},
   "outputs": [],
   "source": [
    "coordinates = list(lat_lngs)"
   ]
  },
  {
   "cell_type": "code",
   "execution_count": 11,
   "id": "1b9a3708",
   "metadata": {},
   "outputs": [
    {
     "data": {
      "text/plain": [
       "763"
      ]
     },
     "execution_count": 11,
     "metadata": {},
     "output_type": "execute_result"
    }
   ],
   "source": [
    "# Create a list for holding the cities.\n",
    "cities = []\n",
    "# Identify the nearest city for each latitude and longitude combination.\n",
    "for coordinate in coordinates:\n",
    "    city = citipy.nearest_city(coordinate[0], coordinate[1]).city_name\n",
    "\n",
    "    # If the city is unique, then we will add it to the cities list.\n",
    "    if city not in cities:\n",
    "        cities.append(city)\n",
    "# Print the city count to confirm sufficient count.\n",
    "len(cities)"
   ]
  },
  {
   "cell_type": "code",
   "execution_count": 12,
   "id": "609a84b6",
   "metadata": {},
   "outputs": [
    {
     "name": "stdout",
     "output_type": "stream",
     "text": [
      "http://api.openweathermap.org/data/2.5/weather?units=Imperial&APPID=1acf8adbb09489515a242c0e8cd8ce93\n"
     ]
    }
   ],
   "source": [
    "import requests\n",
    "# API Key\n",
    "from api import weather_api_key\n",
    "\n",
    "# Starting URL for Weather Map API Call.\n",
    "url = \"http://api.openweathermap.org/data/2.5/weather?units=Imperial&APPID=\" + weather_api_key\n",
    "print(url)"
   ]
  },
  {
   "cell_type": "code",
   "execution_count": null,
   "id": "623c93c0",
   "metadata": {},
   "outputs": [
    {
     "name": "stdout",
     "output_type": "stream",
     "text": [
      "Beginning Data Retrieval     \n",
      "-----------------------------\n",
      "Processing Record 1 of Set 1 | atuona\n",
      "Processing Record 2 of Set 1 | touros\n",
      "Processing Record 3 of Set 1 | rocha\n",
      "Processing Record 4 of Set 1 | mataura\n",
      "Processing Record 5 of Set 1 | bredasdorp\n",
      "Processing Record 6 of Set 1 | victoria\n",
      "Processing Record 7 of Set 1 | talnakh\n",
      "Processing Record 8 of Set 1 | butaritari\n",
      "Processing Record 9 of Set 1 | qaanaaq\n",
      "Processing Record 10 of Set 1 | barentsburg\n",
      "City not found. Skipping...\n",
      "Processing Record 11 of Set 1 | pacific grove\n",
      "Processing Record 12 of Set 1 | kapaa\n",
      "Processing Record 13 of Set 1 | punta arenas\n",
      "Processing Record 14 of Set 1 | ambunti\n",
      "Processing Record 15 of Set 1 | rikitea\n",
      "Processing Record 16 of Set 1 | hermanus\n",
      "Processing Record 17 of Set 1 | cherskiy\n",
      "Processing Record 18 of Set 1 | albany\n",
      "Processing Record 19 of Set 1 | sitka\n",
      "Processing Record 20 of Set 1 | east london\n",
      "Processing Record 21 of Set 1 | busselton\n",
      "Processing Record 22 of Set 1 | rafaela\n",
      "Processing Record 23 of Set 1 | bluff\n",
      "Processing Record 24 of Set 1 | saskylakh\n",
      "Processing Record 25 of Set 1 | ilulissat\n",
      "Processing Record 26 of Set 1 | lebu\n",
      "Processing Record 27 of Set 1 | bandarbeyla\n",
      "Processing Record 28 of Set 1 | stykkisholmur\n",
      "Processing Record 29 of Set 1 | bose\n",
      "Processing Record 30 of Set 1 | georgetown\n",
      "Processing Record 31 of Set 1 | leningradskiy\n",
      "Processing Record 32 of Set 1 | torbay\n",
      "Processing Record 33 of Set 1 | tumarbong\n",
      "Processing Record 34 of Set 1 | jamestown\n",
      "Processing Record 35 of Set 1 | mudgee\n",
      "Processing Record 36 of Set 1 | ushuaia\n",
      "Processing Record 37 of Set 1 | bambous virieux\n",
      "Processing Record 38 of Set 1 | asau\n",
      "Processing Record 39 of Set 1 | airai\n",
      "Processing Record 40 of Set 1 | taolanaro\n",
      "City not found. Skipping...\n",
      "Processing Record 41 of Set 1 | laguna\n",
      "Processing Record 42 of Set 1 | souillac\n",
      "Processing Record 43 of Set 1 | bilibino\n",
      "Processing Record 44 of Set 1 | port blair\n",
      "Processing Record 45 of Set 1 | teguldet\n",
      "Processing Record 46 of Set 1 | puerto ayora\n",
      "Processing Record 47 of Set 1 | erenhot\n",
      "Processing Record 48 of Set 1 | port alfred\n",
      "Processing Record 49 of Set 1 | lake jackson\n",
      "Processing Record 50 of Set 1 | thompson\n",
      "Processing Record 1 of Set 2 | ta khmau\n",
      "Processing Record 2 of Set 2 | kushmurun\n",
      "Processing Record 3 of Set 2 | palmer\n",
      "Processing Record 4 of Set 2 | ahipara\n",
      "Processing Record 5 of Set 2 | samusu\n",
      "City not found. Skipping...\n",
      "Processing Record 6 of Set 2 | nuuk\n",
      "Processing Record 7 of Set 2 | vaini\n",
      "Processing Record 8 of Set 2 | tapaua\n",
      "City not found. Skipping...\n",
      "Processing Record 9 of Set 2 | new norfolk\n",
      "Processing Record 10 of Set 2 | yulara\n",
      "Processing Record 11 of Set 2 | alofi\n",
      "Processing Record 12 of Set 2 | namatanai\n",
      "Processing Record 13 of Set 2 | champerico\n",
      "Processing Record 14 of Set 2 | tasiilaq\n",
      "Processing Record 15 of Set 2 | aflu\n",
      "City not found. Skipping...\n",
      "Processing Record 16 of Set 2 | barrow\n",
      "Processing Record 17 of Set 2 | gat\n",
      "Processing Record 18 of Set 2 | marcona\n",
      "City not found. Skipping...\n",
      "Processing Record 19 of Set 2 | cambridge\n",
      "Processing Record 20 of Set 2 | balakirevo\n",
      "Processing Record 21 of Set 2 | arraial do cabo\n",
      "Processing Record 22 of Set 2 | illoqqortoormiut\n",
      "City not found. Skipping...\n",
      "Processing Record 23 of Set 2 | khatanga\n",
      "Processing Record 24 of Set 2 | bajitpur\n",
      "Processing Record 25 of Set 2 | santa maria\n",
      "Processing Record 26 of Set 2 | ryotsu\n",
      "Processing Record 27 of Set 2 | havoysund\n",
      "Processing Record 28 of Set 2 | ugep\n",
      "Processing Record 29 of Set 2 | tigil\n",
      "Processing Record 30 of Set 2 | mackay\n",
      "Processing Record 31 of Set 2 | henties bay\n"
     ]
    }
   ],
   "source": [
    "# Create an empty list to hold the weather data.\n",
    "city_data = []\n",
    "# Print the beginning of the logging.\n",
    "print(\"Beginning Data Retrieval     \")\n",
    "print(\"-----------------------------\")\n",
    "\n",
    "# Create counters.\n",
    "record_count = 1\n",
    "set_count = 1\n",
    "\n",
    "# Create an empty list to hold the weather data.\n",
    "city_data = []\n",
    "\n",
    "# Loop through all the cities in the list.\n",
    "for i, city in enumerate(cities):\n",
    "\n",
    "    # Group cities in sets of 50 for logging purposes.\n",
    "    if (i % 50 == 0 and i >= 50):\n",
    "        set_count += 1\n",
    "        record_count = 1\n",
    "        time.sleep(60)\n",
    "\n",
    "    # Create endpoint URL with each city.\n",
    "    city_url = url + \"&q=\" + city.replace(\" \",\"+\")\n",
    "\n",
    "    # Log the URL, record, and set numbers and the city.\n",
    "    print(f\"Processing Record {record_count} of Set {set_count} | {city}\")\n",
    "    # Add 1 to the record count.\n",
    "    record_count += 1\n",
    "\n",
    "    # Run an API request for each of the cities.\n",
    "    try:\n",
    "        # Parse the JSON and retrieve data.\n",
    "        city_weather = requests.get(city_url).json()\n",
    "        # Parse out the needed data.\n",
    "        city_lat = city_weather[\"coord\"][\"lat\"]\n",
    "        city_lng = city_weather[\"coord\"][\"lon\"]\n",
    "        city_max_temp = city_weather[\"main\"][\"temp_max\"]\n",
    "        city_humidity = city_weather[\"main\"][\"humidity\"]\n",
    "        city_clouds = city_weather[\"clouds\"][\"all\"]\n",
    "        city_wind = city_weather[\"wind\"][\"speed\"]\n",
    "        city_country = city_weather[\"sys\"][\"country\"]\n",
    "        # Convert the date to ISO standard.\n",
    "        city_date = datetime.utcfromtimestamp(city_weather[\"dt\"]).strftime('%Y-%m-%d %H:%M:%S')\n",
    "        # Append the city information into city_data list.\n",
    "        city_data.append({\"City\": city.title(),\n",
    "                          \"Lat\": city_lat,\n",
    "                          \"Lng\": city_lng,\n",
    "                          \"Max Temp\": city_max_temp,\n",
    "                          \"Humidity\": city_humidity,\n",
    "                          \"Cloudiness\": city_clouds,\n",
    "                          \"Wind Speed\": city_wind,\n",
    "                          \"Country\": city_country,\n",
    "                          \"Date\": city_date})\n",
    "\n",
    "# If an error is experienced, skip the city.\n",
    "    except:\n",
    "        print(\"City not found. Skipping...\")\n",
    "        pass\n",
    "\n",
    "# Indicate that Data Loading is complete.\n",
    "print(\"-----------------------------\")\n",
    "print(\"Data Retrieval Complete      \")\n",
    "print(\"-----------------------------\")\n",
    "\n"
   ]
  },
  {
   "cell_type": "code",
   "execution_count": null,
   "id": "82678558",
   "metadata": {},
   "outputs": [],
   "source": [
    "# Convert the array of dictionaries to a Pandas DataFrame.\n",
    "city_data_df = pd.DataFrame(city_data)\n",
    "city_data_df"
   ]
  },
  {
   "cell_type": "code",
   "execution_count": null,
   "id": "7cf7c39e",
   "metadata": {},
   "outputs": [],
   "source": [
    "# Create the output File (CSV)\n",
    "output_data_file = \"selected_cities.csv\"\n",
    "# Export the City_Data into a csv\n",
    "city_data_df.to_csv(output_data_file, index_label=\"City_ID\")\n"
   ]
  },
  {
   "cell_type": "code",
   "execution_count": null,
   "id": "b21464fa",
   "metadata": {},
   "outputs": [],
   "source": [
    "# Show Record Count\n",
    "city_data_df.count()"
   ]
  },
  {
   "cell_type": "code",
   "execution_count": null,
   "id": "b761a1f8",
   "metadata": {},
   "outputs": [],
   "source": []
  },
  {
   "cell_type": "code",
   "execution_count": null,
   "id": "4772ee9d",
   "metadata": {},
   "outputs": [],
   "source": []
  }
 ],
 "metadata": {
  "kernelspec": {
   "display_name": "Python 3 (ipykernel)",
   "language": "python",
   "name": "python3"
  },
  "language_info": {
   "codemirror_mode": {
    "name": "ipython",
    "version": 3
   },
   "file_extension": ".py",
   "mimetype": "text/x-python",
   "name": "python",
   "nbconvert_exporter": "python",
   "pygments_lexer": "ipython3",
   "version": "3.9.7"
  }
 },
 "nbformat": 4,
 "nbformat_minor": 5
}
